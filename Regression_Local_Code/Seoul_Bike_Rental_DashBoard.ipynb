{
 "cells": [
  {
   "cell_type": "markdown",
   "metadata": {},
   "source": [
    "## Seoul Bike Rental | Prediction Deploy | Dash 🚴🏿‍♀️"
   ]
  },
  {
   "cell_type": "markdown",
   "metadata": {},
   "source": [
    "**needed liberary**"
   ]
  },
  {
   "cell_type": "code",
   "execution_count": 1,
   "metadata": {},
   "outputs": [],
   "source": [
    "import numpy as np\n",
    "import pandas as pd\n",
    "import warnings\n",
    "import dash\n",
    "from dash import html\n",
    "from dash import dcc\n",
    "from datetime import date\n",
    "import dash_bootstrap_components as dbc\n",
    "from dash.dependencies import Input, Output, State\n",
    "\n",
    "import pickle\n",
    "\n",
    "warnings.filterwarnings('ignore')"
   ]
  },
  {
   "cell_type": "code",
   "execution_count": 3,
   "metadata": {},
   "outputs": [],
   "source": [
    "# loss function of  model\n",
    "def RMSLE(y_acual, y_pred):\n",
    "    return np.sqrt(mean_squared_log_error(y_acual, y_pred))"
   ]
  },
  {
   "cell_type": "code",
   "execution_count": 4,
   "metadata": {},
   "outputs": [],
   "source": [
    "# load the vectorizer from disk\n",
    "filename = 'output/Xgb_model.pkl'\n",
    "model = pickle.load(open(filename, 'rb'))"
   ]
  },
  {
   "cell_type": "code",
   "execution_count": 7,
   "metadata": {},
   "outputs": [
    {
     "data": {
      "text/plain": [
       "'0.24.2'"
      ]
     },
     "execution_count": 7,
     "metadata": {},
     "output_type": "execute_result"
    }
   ],
   "source": [
    "import sklearn\n",
    "sklearn.__version__"
   ]
  },
  {
   "cell_type": "code",
   "execution_count": 5,
   "metadata": {},
   "outputs": [
    {
     "data": {
      "text/plain": [
       "array([1065.9127], dtype=float32)"
      ]
     },
     "execution_count": 5,
     "metadata": {},
     "output_type": "execute_result"
    }
   ],
   "source": [
    "model.predict(np.array([11,1,11,13,23,34,5,2000,3,0,1,1,1,0,0,0,0,0,0,1,0,1,0,0]).reshape(1,-1))"
   ]
  },
  {
   "cell_type": "markdown",
   "metadata": {},
   "source": [
    "## Calculate season method"
   ]
  },
  {
   "cell_type": "code",
   "execution_count": 4,
   "metadata": {},
   "outputs": [],
   "source": [
    "def season_of_date(date_UTC):\n",
    "    year = str(date_UTC.year)\n",
    "    seasons = {'spring': pd.date_range(start= year +'-03-21 00:00:00', end=year + '-06-20 00:00:00'),\n",
    "               'summer': pd.date_range(start= year + '-06-21 00:00:00', end= year + '-09-22 00:00:00'),\n",
    "               'autumn': pd.date_range(start= year + '-09-23 00:00:00', end= year + '-12-20 00:00:00')}\n",
    "    if date_UTC in seasons['spring']:\n",
    "        return 'spring'\n",
    "    if date_UTC in seasons['summer']:\n",
    "        return 'summer'\n",
    "    if date_UTC in seasons['autumn']:\n",
    "        return 'autumn'\n",
    "    else:\n",
    "        return 'winter'"
   ]
  },
  {
   "cell_type": "markdown",
   "metadata": {},
   "source": [
    "## Calculate day, day of week"
   ]
  },
  {
   "cell_type": "code",
   "execution_count": 5,
   "metadata": {},
   "outputs": [],
   "source": [
    "get_label_day_night = lambda hour : 0 if (hour<7) else(1)"
   ]
  },
  {
   "cell_type": "code",
   "execution_count": 6,
   "metadata": {},
   "outputs": [],
   "source": [
    "get_working_day = lambda week_day: 0 if (week_day in ['Saturday', 'Sunday']) else(1)"
   ]
  },
  {
   "cell_type": "markdown",
   "metadata": {},
   "source": [
    "## One hot encode for day_of_week and season"
   ]
  },
  {
   "cell_type": "code",
   "execution_count": 7,
   "metadata": {},
   "outputs": [],
   "source": [
    "def get_week_day_list(week_day):\n",
    "    day_dict = {'Friday':0, 'Monday':0, 'Saturday':0,\n",
    "                'Sunday':0, 'Thursday':0, 'Tuesday':0, 'Wednesday':0}\n",
    "    day_dict[week_day] = 1\n",
    "    return [*day_dict.values()]"
   ]
  },
  {
   "cell_type": "code",
   "execution_count": 8,
   "metadata": {},
   "outputs": [],
   "source": [
    "def get_season_list(season):\n",
    "    season_dict = {'autumn':0, 'spring':0, 'summer':0, 'winter':0}\n",
    "    season_dict[season] = 1\n",
    "    return [*season_dict.values()]"
   ]
  },
  {
   "cell_type": "markdown",
   "metadata": {},
   "source": [
    "## Prediction method"
   ]
  },
  {
   "cell_type": "code",
   "execution_count": 9,
   "metadata": {},
   "outputs": [],
   "source": [
    "def prediction(date_value, hour, temp, humidity, wind_speed, visiabilty, solar, rain, holiday, Function_Day):\n",
    "    date_value = pd.to_datetime(date_value, format=\"%Y-%m-%d\", utc=True)\n",
    "    day = date_value.day\n",
    "    month = date_value.month\n",
    "    week_day = date_value.day_name()\n",
    "    season = season_of_date(date_value)\n",
    "    label_day_night = get_label_day_night(hour)\n",
    "    Working_Day = get_working_day(week_day)\n",
    "    \n",
    "    day_list = get_week_day_list(week_day)\n",
    "\n",
    "    season_list = get_season_list(season)\n",
    "    \n",
    "    input_array = np.array([day, label_day_night, month, hour, temp, humidity,\n",
    "                             wind_speed, visiabilty, solar, rain, holiday, \n",
    "                             Function_Day,Working_Day]+day_list+season_list)\n",
    "    \n",
    "    my_prediction = np.array([model.predict(input_array.reshape(1,-1))], dtype='int')\n",
    "\n",
    "    return str(my_prediction[0][0])"
   ]
  },
  {
   "cell_type": "code",
   "execution_count": 10,
   "metadata": {},
   "outputs": [
    {
     "data": {
      "text/plain": [
       "'2306'"
      ]
     },
     "execution_count": 10,
     "metadata": {},
     "output_type": "execute_result"
    }
   ],
   "source": [
    "# prediction method test\n",
    "prediction('2021-06-10', 18, 16.6, 61, 2.9, 2000, 0.16, 0,1,1)"
   ]
  },
  {
   "cell_type": "markdown",
   "metadata": {},
   "source": [
    "## Testing method"
   ]
  },
  {
   "cell_type": "code",
   "execution_count": 11,
   "metadata": {},
   "outputs": [],
   "source": [
    "def input_test(date_value, hour, temp, humidity, wind_speed, visiabilty, solar, rain, holiday, Function_Day):\n",
    "    \n",
    "    try:\n",
    "        if not(all([str(type(x))!=\"<class 'NoneType'>\" for x in [hour, temp, humidity, wind_speed, visiabilty, solar, rain]])):\n",
    "            Ex = ValueError()\n",
    "            Ex.strerror = \"Make Sure you enter all values.\"\n",
    "            raise Ex\n",
    "            \n",
    "        if not (type(hour)==int and hour in range(24)):\n",
    "            Ex = ValueError()\n",
    "            Ex.strerror = \"Hour Value must be within 0 and 23.\"\n",
    "            raise Ex\n",
    "        if not(temp >= -20 and temp <= 50):\n",
    "            Ex = ValueError()\n",
    "            Ex.strerror = \"Temperature Value should be in range -20 to 50.\"\n",
    "            raise Ex\n",
    "            \n",
    "        if not(humidity >= 0 and humidity <= 100):\n",
    "            Ex = ValueError()\n",
    "            Ex.strerror = \"Humidity Value should be precentage in range 0 to 100.\"\n",
    "            raise Ex\n",
    "        \n",
    "        if not(wind_speed >= 0 and wind_speed <= 10):\n",
    "            Ex = ValueError()\n",
    "            Ex.strerror = \"Wind Speed Value should be in range 0 to 10.\"\n",
    "            raise Ex\n",
    "            \n",
    "        if not(visiabilty >= 0 and visiabilty <= 2000):\n",
    "            Ex = ValueError()\n",
    "            Ex.strerror = \"Visiabilty Value should be in range 0 to 2000.\"\n",
    "            raise Ex\n",
    "        \n",
    "        if not(solar >= 0 and solar <= 5):\n",
    "            Ex = ValueError()\n",
    "            Ex.strerror = \"Solar Value should be in range 0 to 5.\"\n",
    "            raise Ex\n",
    "        \n",
    "        if not(rain >= 0 and rain <= 40):\n",
    "            Ex = ValueError()\n",
    "            Ex.strerror = \"RainFall Value should be in range 0 to 40.\"\n",
    "            raise Ex\n",
    "        try:    \n",
    "            output = prediction(date_value, hour, temp, humidity, wind_speed, visiabilty, solar, rain, holiday, Function_Day)\n",
    "        except:\n",
    "            Ex = ValueError()\n",
    "            Ex.strerror = \"Model Can't predict these values.\"\n",
    "            raise Ex\n",
    "            \n",
    "    except ValueError as e:\n",
    "        output = e.strerror\n",
    "        \n",
    "    return output"
   ]
  },
  {
   "cell_type": "markdown",
   "metadata": {},
   "source": [
    "## Start of Design"
   ]
  },
  {
   "cell_type": "code",
   "execution_count": 12,
   "metadata": {},
   "outputs": [],
   "source": [
    "# Text field\n",
    "def drawText():\n",
    "    return html.Div([\n",
    "        dbc.Card(\n",
    "            dbc.CardBody([\n",
    "                html.Div([\n",
    "                    html.H2(\"Predict Rental in Seoul\"),\n",
    "                ], style={'textAlign': 'center'}) \n",
    "            ])\n",
    "        ),\n",
    "    ])"
   ]
  },
  {
   "cell_type": "code",
   "execution_count": 13,
   "metadata": {},
   "outputs": [],
   "source": [
    "# list field\n",
    "def drawlist(label_dict,text):\n",
    "    return dbc.Row([\n",
    "        dbc.Col([\n",
    "            html.Div([\n",
    "                dbc.Label(text),\n",
    "                dbc.Select(\n",
    "                    id=text,\n",
    "                    options=label_dict,\n",
    "                    value=[*label_dict[-1].values()][-1],\n",
    "                    style={'color':'#aaa',}\n",
    "                ),\n",
    "                html.Br(),\n",
    "            ],)\n",
    "\n",
    "        ], width=6),\n",
    "    ], justify=\"center\", align='center')"
   ]
  },
  {
   "cell_type": "code",
   "execution_count": 14,
   "metadata": {},
   "outputs": [],
   "source": [
    "# input field\n",
    "def drawInput(input_id, text):\n",
    "    return dbc.Row([\n",
    "        dbc.Col([\n",
    "            html.Div([\n",
    "                dbc.Label(text.split(\"(\")[0]),\n",
    "                dbc.Input(id=input_id, placeholder=text, type=\"number\", size=\"md\", style={'color':'#fff'}),\n",
    "                html.Br()\n",
    "            ]),\n",
    "\n",
    "        ], width=6),\n",
    "    ], justify=\"center\", align='center')"
   ]
  },
  {
   "cell_type": "code",
   "execution_count": 15,
   "metadata": {},
   "outputs": [],
   "source": [
    "# button field\n",
    "def drawButton(id_value, value):\n",
    "    return html.Div([\n",
    "        dbc.Button(id=id_value, children=value, color=\"secondary\", type='submit', size='md', n_clicks=0),\n",
    "        html.Br()\n",
    "    ], className=\"d-grid gap-1 col-6 mx-auto\",)\n",
    "   "
   ]
  },
  {
   "cell_type": "code",
   "execution_count": 16,
   "metadata": {},
   "outputs": [],
   "source": [
    "Holiday_dict = {'Holiday':0, 'No Holiday':1}\n",
    "Holiday_option = [{'label':key, 'value':value} for key, value in Holiday_dict.items()]\n",
    "\n",
    "Function_dict = {'No':0, 'Yes':1}\n",
    "Function_option = [{'label':key, 'value':value} for key, value in Function_dict.items()]"
   ]
  },
  {
   "cell_type": "code",
   "execution_count": 17,
   "metadata": {},
   "outputs": [],
   "source": [
    "# date field\n",
    "def drawDateTime(id_value):\n",
    "    return dbc.Row([\n",
    "        dbc.Col([\n",
    "            html.Div([\n",
    "                dbc.Label(\"Date Picker\"),\n",
    "                \n",
    "                html.Div([ \n",
    "                    dcc.DatePickerSingle(\n",
    "                        id=id_value,\n",
    "                        min_date_allowed=date(2017, 8, 5),\n",
    "                        max_date_allowed=date(2022, 9, 19, ),\n",
    "                        initial_visible_month=date(2021, 11, 6),\n",
    "                        date=date(2021, 11, 6),\n",
    "                        style={'width':'100%'}\n",
    "                    )]),\n",
    "                html.Br()\n",
    "\n",
    "            ])\n",
    "        ], width=6)\n",
    "    ], justify=\"center\", align='center')"
   ]
  },
  {
   "cell_type": "code",
   "execution_count": 18,
   "metadata": {},
   "outputs": [],
   "source": [
    "def drawOutput():\n",
    "    return dbc.Row([\n",
    "        dbc.Col([\n",
    "            html.Div([\n",
    "                html.Div([\n",
    "                    html.P(children=\"Prediction will be appear Here!\",\n",
    "                           id='Output',\n",
    "                           style={'text-align':'center'})\n",
    "                ]),\n",
    "                html.Br(),\n",
    "            ]),\n",
    "\n",
    "        ], width=6),\n",
    "    ], justify=\"center\", align='center')\n",
    "\n",
    "\n"
   ]
  },
  {
   "cell_type": "markdown",
   "metadata": {},
   "source": [
    "## Deploy"
   ]
  },
  {
   "cell_type": "code",
   "execution_count": 19,
   "metadata": {},
   "outputs": [
    {
     "name": "stdout",
     "output_type": "stream",
     "text": [
      "Dash is running on http://127.0.0.1:6080/\n",
      "\n",
      " * Serving Flask app \"__main__\" (lazy loading)\n",
      " * Environment: production\n",
      "   WARNING: This is a development server. Do not use it in a production deployment.\n",
      "   Use a production WSGI server instead.\n",
      " * Debug mode: off\n"
     ]
    },
    {
     "name": "stderr",
     "output_type": "stream",
     "text": [
      " * Running on http://127.0.0.1:6080/ (Press CTRL+C to quit)\n",
      "127.0.0.1 - - [06/Nov/2021 18:12:45] \"\u001b[37mGET / HTTP/1.1\u001b[0m\" 200 -\n",
      "127.0.0.1 - - [06/Nov/2021 18:12:46] \"\u001b[37mGET /_dash-dependencies HTTP/1.1\u001b[0m\" 200 -\n",
      "127.0.0.1 - - [06/Nov/2021 18:12:46] \"\u001b[37mGET /_dash-layout HTTP/1.1\u001b[0m\" 200 -\n",
      "127.0.0.1 - - [06/Nov/2021 18:12:46] \"\u001b[37mGET /_dash-component-suites/dash/dcc/async-datepicker.js HTTP/1.1\u001b[0m\" 200 -\n",
      "127.0.0.1 - - [06/Nov/2021 18:12:46] \"\u001b[37mPOST /_dash-update-component HTTP/1.1\u001b[0m\" 200 -\n",
      "127.0.0.1 - - [06/Nov/2021 18:12:46] \"\u001b[37mGET /assets/favicon.ico?m=1636215119.2524703 HTTP/1.1\u001b[0m\" 200 -\n"
     ]
    }
   ],
   "source": [
    "app = dash.Dash(\n",
    "            external_stylesheets=[dbc.themes.SLATE],\n",
    "            update_title='Loading...',\n",
    "            title='Seoul Bike Rental'\n",
    ")\n",
    "\n",
    "server = app.server\n",
    "\n",
    "\n",
    "# ====================================Start of Design================================= #\n",
    "app.layout = html.Div([\n",
    "    dbc.Card(\n",
    "        dbc.CardBody([\n",
    "# =======================================Header======================================== #\n",
    "            dbc.Row([\n",
    "                dbc.Col([\n",
    "                    drawText()\n",
    "                ], width=8)\n",
    "            ], justify=\"center\", align='center'),\n",
    "            \n",
    "            html.Br(),\n",
    "            \n",
    "# ====================================Input=========================================== #\n",
    "            dbc.Row([\n",
    "                dbc.Col([\n",
    "                    dbc.Card(\n",
    "                        dbc.CardBody([\n",
    "                            html.Div([\n",
    "                                drawDateTime('datetime'),\n",
    "                                drawInput('Hour', 'Hour(24)'),\n",
    "                                drawInput('Temperature', 'Temperature(°C)'),\n",
    "                                drawInput('humidity', 'Humidity(%)'),\n",
    "                                drawInput('wind_speed', 'Wind speed (m/s)'),\n",
    "                                drawInput('visability', 'Visibility (10m)'),\n",
    "                                drawInput('solar', 'Solar Radiation (MJ/m2)'),\n",
    "                                drawInput('rainfall', 'Rainfall(mm)'),\n",
    "                                drawlist(Holiday_option, 'Holiday'),\n",
    "                                drawlist(Function_option, 'Functioning_Day'),\n",
    "                                drawOutput(),\n",
    "                                drawButton('Input', 'Predict')\n",
    "                            ]) \n",
    "                        ])\n",
    "                    ),\n",
    "                ], width=8),\n",
    "            ], justify=\"center\", align='center'),\n",
    "\n",
    "        ]), color = 'dark',\n",
    "    )\n",
    "])\n",
    "\n",
    "# ===============================================Callback method=============================== #\n",
    "@app.callback(\n",
    "    Output('Output', 'children'),\n",
    "    Input('Input', 'n_clicks'),\n",
    "    State('datetime', 'date'),\n",
    "    State('Hour', 'value'),\n",
    "    State('Temperature', 'value'),\n",
    "    State('humidity', 'value'),\n",
    "    State('wind_speed', 'value'),\n",
    "    State('visability', 'value'),\n",
    "    State('solar', 'value'),\n",
    "    State('rainfall', 'value'),\n",
    "    State('Holiday', 'value'),\n",
    "    State('Functioning_Day', 'value'),\n",
    "    \n",
    ")\n",
    "# ===============================================Update Output=============================== #\n",
    "def update_output(n_click,date_value, hour, temp, humidity, wind_speed, visiabilty, solar, rain, holiday, Function_Day):\n",
    "    if n_click == 0:\n",
    "        output  = \"Prediction will be appear Here!\"\n",
    "    else:\n",
    "        output = input_test(date_value, hour, temp, humidity, wind_speed, visiabilty, solar, rain, holiday, Function_Day)\n",
    "    return output\n",
    "\n",
    "# ==========================================Run Code========================================== #\n",
    "if __name__ == '__main__':\n",
    "    app.run_server(port=6080)"
   ]
  },
  {
   "cell_type": "markdown",
   "metadata": {},
   "source": [
    "### Thanks For Read My NoteBook :)"
   ]
  }
 ],
 "metadata": {
  "kernelspec": {
   "display_name": "Python 3",
   "language": "python",
   "name": "python3"
  },
  "language_info": {
   "codemirror_mode": {
    "name": "ipython",
    "version": 3
   },
   "file_extension": ".py",
   "mimetype": "text/x-python",
   "name": "python",
   "nbconvert_exporter": "python",
   "pygments_lexer": "ipython3",
   "version": "3.8.3"
  }
 },
 "nbformat": 4,
 "nbformat_minor": 4
}
