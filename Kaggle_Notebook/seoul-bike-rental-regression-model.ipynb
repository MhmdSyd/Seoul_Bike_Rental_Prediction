{
 "cells": [
  {
   "cell_type": "markdown",
   "id": "4d08d294",
   "metadata": {
    "papermill": {
     "duration": 0.043721,
     "end_time": "2021-08-30T16:43:55.285512",
     "exception": false,
     "start_time": "2021-08-30T16:43:55.241791",
     "status": "completed"
    },
    "tags": []
   },
   "source": [
    "### Seoul Bike 🚴🏿‍♀️ | Feature Engineering & Regression Model"
   ]
  },
  {
   "cell_type": "markdown",
   "id": "4989551c",
   "metadata": {
    "papermill": {
     "duration": 0.041476,
     "end_time": "2021-08-30T16:43:55.371500",
     "exception": false,
     "start_time": "2021-08-30T16:43:55.330024",
     "status": "completed"
    },
    "tags": []
   },
   "source": [
    "![](https://raw.githubusercontent.com/MhmdSyd/needed_image/main/iti-kaggle.jpg)"
   ]
  },
  {
   "cell_type": "markdown",
   "id": "18be199a",
   "metadata": {
    "papermill": {
     "duration": 0.04305,
     "end_time": "2021-08-30T16:43:55.456781",
     "exception": false,
     "start_time": "2021-08-30T16:43:55.413731",
     "status": "completed"
    },
    "tags": []
   },
   "source": [
    "**This notebook explains how we can go about explore and prepare data for model building.**\n",
    "\n",
    "*The notebook is structured in the following way:*\n",
    "\n",
    "- About Dataset.\n",
    "- Data Summary.\n",
    "- Feature Engineering.\n",
    "- Model:\n",
    "    - CatBoost Model.\n",
    "    - XGBoost Model.\n",
    "    - Grediant Boost Model."
   ]
  },
  {
   "cell_type": "markdown",
   "id": "72f69547",
   "metadata": {
    "papermill": {
     "duration": 0.041736,
     "end_time": "2021-08-30T16:43:55.542338",
     "exception": false,
     "start_time": "2021-08-30T16:43:55.500602",
     "status": "completed"
    },
    "tags": []
   },
   "source": [
    "<div style=\"color:white;\n",
    "           display:fill;\n",
    "           border-radius:5px;\n",
    "           background-color:#5642C5;\n",
    "           font-size:110%;\n",
    "           font-family:Verdana;\n",
    "           letter-spacing:0.5px\">\n",
    "\n",
    "<span style='padding: 10px; font-family:Helvetica; font-size:30px' > About Dataset </span>\n",
    "</div>"
   ]
  },
  {
   "cell_type": "markdown",
   "id": "c775a952",
   "metadata": {
    "papermill": {
     "duration": 0.041695,
     "end_time": "2021-08-30T16:43:55.627091",
     "exception": false,
     "start_time": "2021-08-30T16:43:55.585396",
     "status": "completed"
    },
    "tags": []
   },
   "source": [
    "## Data Feature\n",
    "\n",
    "- **Date** : datetime(day/month/year).\n",
    "- **y** : target feature.\n",
    "- **Hour** : hour of datetime.\n",
    "- **Temperature(°C)** : temperature in Celsius.\n",
    "- **Humidity(%)** : relative humidity.\n",
    "- **Wind speed (m/s)** : wind speed.\n",
    "- **Visibility (10m)** : visibility range.\n",
    "- **Dew point temperature(�C)** : temperature of the air (at constant pressure).\n",
    "- **Solar Radiation (MJ/m2)** : the total solar energy for a day.\n",
    "- **Rainfall(mm)** : represents the total depth of rainwater (mm), during 24 hours.\n",
    "- **Snowfall (cm)** : the amount of snow that falls in a given area or period of time.\n",
    "- **Seasons** : (Winter,Spring, Autumn, Summer).\n",
    "- **Holiday** : that day is holiday or not.\n",
    "- **Functioning Day** : working day or close."
   ]
  },
  {
   "cell_type": "markdown",
   "id": "4ce5b822",
   "metadata": {
    "papermill": {
     "duration": 0.041722,
     "end_time": "2021-08-30T16:43:55.710716",
     "exception": false,
     "start_time": "2021-08-30T16:43:55.668994",
     "status": "completed"
    },
    "tags": []
   },
   "source": [
    "**Import Needed Libraries**"
   ]
  },
  {
   "cell_type": "code",
   "execution_count": 1,
   "id": "e08d87a5",
   "metadata": {
    "_kg_hide-input": true,
    "execution": {
     "iopub.execute_input": "2021-08-30T16:43:55.810872Z",
     "iopub.status.busy": "2021-08-30T16:43:55.804288Z",
     "iopub.status.idle": "2021-08-30T16:43:57.619192Z",
     "shell.execute_reply": "2021-08-30T16:43:57.617683Z",
     "shell.execute_reply.started": "2021-08-30T16:40:01.755166Z"
    },
    "papermill": {
     "duration": 1.866879,
     "end_time": "2021-08-30T16:43:57.619383",
     "exception": false,
     "start_time": "2021-08-30T16:43:55.752504",
     "status": "completed"
    },
    "tags": []
   },
   "outputs": [],
   "source": [
    "import numpy as np\n",
    "import pandas as pd\n",
    "import matplotlib.pyplot as plt\n",
    "import seaborn as sns\n",
    "import warnings\n",
    "from scipy import stats\n",
    "import missingno as msno\n",
    "\n",
    "from sklearn.metrics import r2_score\n",
    "from sklearn.metrics import mean_squared_log_error\n",
    "from sklearn.preprocessing import StandardScaler, MinMaxScaler\n",
    "from sklearn.model_selection import train_test_split\n",
    "\n",
    "from sklearn.linear_model import  Lasso\n",
    "from sklearn.ensemble import GradientBoostingRegressor\n",
    "from catboost import CatBoostRegressor \n",
    "import xgboost as xgb"
   ]
  },
  {
   "cell_type": "code",
   "execution_count": 2,
   "id": "a93a7850",
   "metadata": {
    "execution": {
     "iopub.execute_input": "2021-08-30T16:43:57.712191Z",
     "iopub.status.busy": "2021-08-30T16:43:57.711439Z",
     "iopub.status.idle": "2021-08-30T16:43:57.713994Z",
     "shell.execute_reply": "2021-08-30T16:43:57.713266Z",
     "shell.execute_reply.started": "2021-08-30T16:40:02.336294Z"
    },
    "papermill": {
     "duration": 0.049425,
     "end_time": "2021-08-30T16:43:57.714150",
     "exception": false,
     "start_time": "2021-08-30T16:43:57.664725",
     "status": "completed"
    },
    "tags": []
   },
   "outputs": [],
   "source": [
    "warnings.filterwarnings(\"ignore\")"
   ]
  },
  {
   "cell_type": "code",
   "execution_count": 3,
   "id": "f5c834ab",
   "metadata": {
    "execution": {
     "iopub.execute_input": "2021-08-30T16:43:57.804085Z",
     "iopub.status.busy": "2021-08-30T16:43:57.803347Z",
     "iopub.status.idle": "2021-08-30T16:43:57.846732Z",
     "shell.execute_reply": "2021-08-30T16:43:57.847494Z",
     "shell.execute_reply.started": "2021-08-30T16:40:02.343341Z"
    },
    "papermill": {
     "duration": 0.091322,
     "end_time": "2021-08-30T16:43:57.847700",
     "exception": false,
     "start_time": "2021-08-30T16:43:57.756378",
     "status": "completed"
    },
    "tags": []
   },
   "outputs": [],
   "source": [
    "df_train = pd.read_csv(\"../input/seoul-bike-rental-ai-pro-iti/train.csv\",index_col=\"ID\")"
   ]
  },
  {
   "cell_type": "code",
   "execution_count": 4,
   "id": "50f90c5d",
   "metadata": {
    "execution": {
     "iopub.execute_input": "2021-08-30T16:43:57.937892Z",
     "iopub.status.busy": "2021-08-30T16:43:57.937047Z",
     "iopub.status.idle": "2021-08-30T16:43:57.958667Z",
     "shell.execute_reply": "2021-08-30T16:43:57.959270Z",
     "shell.execute_reply.started": "2021-08-30T16:40:02.381536Z"
    },
    "papermill": {
     "duration": 0.069141,
     "end_time": "2021-08-30T16:43:57.959539",
     "exception": false,
     "start_time": "2021-08-30T16:43:57.890398",
     "status": "completed"
    },
    "tags": []
   },
   "outputs": [],
   "source": [
    "df_test = pd.read_csv(\"../input/seoul-bike-rental-ai-pro-iti/test.csv\",index_col=\"ID\")\n"
   ]
  },
  {
   "cell_type": "markdown",
   "id": "9193dd77",
   "metadata": {
    "papermill": {
     "duration": 0.044642,
     "end_time": "2021-08-30T16:43:58.047560",
     "exception": false,
     "start_time": "2021-08-30T16:43:58.002918",
     "status": "completed"
    },
    "tags": []
   },
   "source": [
    "## Data Summary"
   ]
  },
  {
   "cell_type": "code",
   "execution_count": 5,
   "id": "5a5b04d7",
   "metadata": {
    "execution": {
     "iopub.execute_input": "2021-08-30T16:43:58.140980Z",
     "iopub.status.busy": "2021-08-30T16:43:58.140259Z",
     "iopub.status.idle": "2021-08-30T16:43:58.144612Z",
     "shell.execute_reply": "2021-08-30T16:43:58.144078Z",
     "shell.execute_reply.started": "2021-08-30T16:40:02.400695Z"
    },
    "papermill": {
     "duration": 0.054195,
     "end_time": "2021-08-30T16:43:58.144754",
     "exception": false,
     "start_time": "2021-08-30T16:43:58.090559",
     "status": "completed"
    },
    "tags": []
   },
   "outputs": [
    {
     "data": {
      "text/plain": [
       "(5760, 14)"
      ]
     },
     "execution_count": 5,
     "metadata": {},
     "output_type": "execute_result"
    }
   ],
   "source": [
    "df_train.shape"
   ]
  },
  {
   "cell_type": "code",
   "execution_count": 6,
   "id": "50b6150c",
   "metadata": {
    "execution": {
     "iopub.execute_input": "2021-08-30T16:43:58.233653Z",
     "iopub.status.busy": "2021-08-30T16:43:58.232956Z",
     "iopub.status.idle": "2021-08-30T16:43:58.259501Z",
     "shell.execute_reply": "2021-08-30T16:43:58.260084Z",
     "shell.execute_reply.started": "2021-08-30T16:40:02.410299Z"
    },
    "papermill": {
     "duration": 0.072254,
     "end_time": "2021-08-30T16:43:58.260267",
     "exception": false,
     "start_time": "2021-08-30T16:43:58.188013",
     "status": "completed"
    },
    "tags": []
   },
   "outputs": [
    {
     "data": {
      "text/html": [
       "<div>\n",
       "<style scoped>\n",
       "    .dataframe tbody tr th:only-of-type {\n",
       "        vertical-align: middle;\n",
       "    }\n",
       "\n",
       "    .dataframe tbody tr th {\n",
       "        vertical-align: top;\n",
       "    }\n",
       "\n",
       "    .dataframe thead th {\n",
       "        text-align: right;\n",
       "    }\n",
       "</style>\n",
       "<table border=\"1\" class=\"dataframe\">\n",
       "  <thead>\n",
       "    <tr style=\"text-align: right;\">\n",
       "      <th></th>\n",
       "      <th>Date</th>\n",
       "      <th>y</th>\n",
       "      <th>Hour</th>\n",
       "      <th>Temperature(�C)</th>\n",
       "      <th>Humidity(%)</th>\n",
       "      <th>Wind speed (m/s)</th>\n",
       "      <th>Visibility (10m)</th>\n",
       "      <th>Dew point temperature(�C)</th>\n",
       "      <th>Solar Radiation (MJ/m2)</th>\n",
       "      <th>Rainfall(mm)</th>\n",
       "      <th>Snowfall (cm)</th>\n",
       "      <th>Seasons</th>\n",
       "      <th>Holiday</th>\n",
       "      <th>Functioning Day</th>\n",
       "    </tr>\n",
       "    <tr>\n",
       "      <th>ID</th>\n",
       "      <th></th>\n",
       "      <th></th>\n",
       "      <th></th>\n",
       "      <th></th>\n",
       "      <th></th>\n",
       "      <th></th>\n",
       "      <th></th>\n",
       "      <th></th>\n",
       "      <th></th>\n",
       "      <th></th>\n",
       "      <th></th>\n",
       "      <th></th>\n",
       "      <th></th>\n",
       "      <th></th>\n",
       "    </tr>\n",
       "  </thead>\n",
       "  <tbody>\n",
       "    <tr>\n",
       "      <th>0</th>\n",
       "      <td>01/12/2017</td>\n",
       "      <td>254</td>\n",
       "      <td>0</td>\n",
       "      <td>-5.2</td>\n",
       "      <td>37</td>\n",
       "      <td>2.2</td>\n",
       "      <td>2000</td>\n",
       "      <td>-17.6</td>\n",
       "      <td>0.0</td>\n",
       "      <td>0.0</td>\n",
       "      <td>0.0</td>\n",
       "      <td>Winter</td>\n",
       "      <td>No Holiday</td>\n",
       "      <td>Yes</td>\n",
       "    </tr>\n",
       "    <tr>\n",
       "      <th>1</th>\n",
       "      <td>01/12/2017</td>\n",
       "      <td>204</td>\n",
       "      <td>1</td>\n",
       "      <td>-5.5</td>\n",
       "      <td>38</td>\n",
       "      <td>0.8</td>\n",
       "      <td>2000</td>\n",
       "      <td>-17.6</td>\n",
       "      <td>0.0</td>\n",
       "      <td>0.0</td>\n",
       "      <td>0.0</td>\n",
       "      <td>Winter</td>\n",
       "      <td>No Holiday</td>\n",
       "      <td>Yes</td>\n",
       "    </tr>\n",
       "    <tr>\n",
       "      <th>2</th>\n",
       "      <td>01/12/2017</td>\n",
       "      <td>173</td>\n",
       "      <td>2</td>\n",
       "      <td>-6.0</td>\n",
       "      <td>39</td>\n",
       "      <td>1.0</td>\n",
       "      <td>2000</td>\n",
       "      <td>-17.7</td>\n",
       "      <td>0.0</td>\n",
       "      <td>0.0</td>\n",
       "      <td>0.0</td>\n",
       "      <td>Winter</td>\n",
       "      <td>No Holiday</td>\n",
       "      <td>Yes</td>\n",
       "    </tr>\n",
       "  </tbody>\n",
       "</table>\n",
       "</div>"
      ],
      "text/plain": [
       "          Date    y  Hour  Temperature(�C)  Humidity(%)  Wind speed (m/s)  \\\n",
       "ID                                                                          \n",
       "0   01/12/2017  254     0             -5.2           37               2.2   \n",
       "1   01/12/2017  204     1             -5.5           38               0.8   \n",
       "2   01/12/2017  173     2             -6.0           39               1.0   \n",
       "\n",
       "    Visibility (10m)  Dew point temperature(�C)  Solar Radiation (MJ/m2)  \\\n",
       "ID                                                                         \n",
       "0               2000                      -17.6                      0.0   \n",
       "1               2000                      -17.6                      0.0   \n",
       "2               2000                      -17.7                      0.0   \n",
       "\n",
       "    Rainfall(mm)  Snowfall (cm) Seasons     Holiday Functioning Day  \n",
       "ID                                                                   \n",
       "0            0.0            0.0  Winter  No Holiday             Yes  \n",
       "1            0.0            0.0  Winter  No Holiday             Yes  \n",
       "2            0.0            0.0  Winter  No Holiday             Yes  "
      ]
     },
     "execution_count": 6,
     "metadata": {},
     "output_type": "execute_result"
    }
   ],
   "source": [
    "df_train.head(3)"
   ]
  },
  {
   "cell_type": "code",
   "execution_count": 7,
   "id": "032573e5",
   "metadata": {
    "execution": {
     "iopub.execute_input": "2021-08-30T16:43:58.349497Z",
     "iopub.status.busy": "2021-08-30T16:43:58.348784Z",
     "iopub.status.idle": "2021-08-30T16:43:58.357921Z",
     "shell.execute_reply": "2021-08-30T16:43:58.357167Z",
     "shell.execute_reply.started": "2021-08-30T16:40:02.441456Z"
    },
    "papermill": {
     "duration": 0.054902,
     "end_time": "2021-08-30T16:43:58.358093",
     "exception": false,
     "start_time": "2021-08-30T16:43:58.303191",
     "status": "completed"
    },
    "tags": []
   },
   "outputs": [
    {
     "data": {
      "text/plain": [
       "Date                          object\n",
       "y                              int64\n",
       "Hour                           int64\n",
       "Temperature(�C)              float64\n",
       "Humidity(%)                    int64\n",
       "Wind speed (m/s)             float64\n",
       "Visibility (10m)               int64\n",
       "Dew point temperature(�C)    float64\n",
       "Solar Radiation (MJ/m2)      float64\n",
       "Rainfall(mm)                 float64\n",
       "Snowfall (cm)                float64\n",
       "Seasons                       object\n",
       "Holiday                       object\n",
       "Functioning Day               object\n",
       "dtype: object"
      ]
     },
     "execution_count": 7,
     "metadata": {},
     "output_type": "execute_result"
    }
   ],
   "source": [
    "df_train.dtypes"
   ]
  },
  {
   "cell_type": "code",
   "execution_count": 8,
   "id": "80475750",
   "metadata": {
    "execution": {
     "iopub.execute_input": "2021-08-30T16:43:58.466863Z",
     "iopub.status.busy": "2021-08-30T16:43:58.454732Z",
     "iopub.status.idle": "2021-08-30T16:43:58.474229Z",
     "shell.execute_reply": "2021-08-30T16:43:58.473524Z",
     "shell.execute_reply.started": "2021-08-30T16:40:02.456721Z"
    },
    "papermill": {
     "duration": 0.072796,
     "end_time": "2021-08-30T16:43:58.474374",
     "exception": false,
     "start_time": "2021-08-30T16:43:58.401578",
     "status": "completed"
    },
    "tags": []
   },
   "outputs": [
    {
     "name": "stdout",
     "output_type": "stream",
     "text": [
      "<class 'pandas.core.frame.DataFrame'>\n",
      "Int64Index: 5760 entries, 0 to 5759\n",
      "Data columns (total 14 columns):\n",
      " #   Column                     Non-Null Count  Dtype  \n",
      "---  ------                     --------------  -----  \n",
      " 0   Date                       5760 non-null   object \n",
      " 1   y                          5760 non-null   int64  \n",
      " 2   Hour                       5760 non-null   int64  \n",
      " 3   Temperature(�C)            5760 non-null   float64\n",
      " 4   Humidity(%)                5760 non-null   int64  \n",
      " 5   Wind speed (m/s)           5760 non-null   float64\n",
      " 6   Visibility (10m)           5760 non-null   int64  \n",
      " 7   Dew point temperature(�C)  5760 non-null   float64\n",
      " 8   Solar Radiation (MJ/m2)    5760 non-null   float64\n",
      " 9   Rainfall(mm)               5760 non-null   float64\n",
      " 10  Snowfall (cm)              5760 non-null   float64\n",
      " 11  Seasons                    5760 non-null   object \n",
      " 12  Holiday                    5760 non-null   object \n",
      " 13  Functioning Day            5760 non-null   object \n",
      "dtypes: float64(6), int64(4), object(4)\n",
      "memory usage: 675.0+ KB\n"
     ]
    }
   ],
   "source": [
    "df_train.info()"
   ]
  },
  {
   "cell_type": "markdown",
   "id": "58eb1ea4",
   "metadata": {
    "papermill": {
     "duration": 0.043144,
     "end_time": "2021-08-30T16:43:58.561303",
     "exception": false,
     "start_time": "2021-08-30T16:43:58.518159",
     "status": "completed"
    },
    "tags": []
   },
   "source": [
    "<div style=\"color:white;\n",
    "           display:fill;\n",
    "           border-radius:5px;\n",
    "           background-color:#5642C5;\n",
    "           font-size:110%;\n",
    "           font-family:Verdana;\n",
    "           letter-spacing:0.5px\">\n",
    "\n",
    "<span style='padding: 10px; font-family:Helvetica; font-size:30px' > Data Preparation </span>\n",
    "</div>"
   ]
  },
  {
   "cell_type": "markdown",
   "id": "7bbc7ba1",
   "metadata": {
    "papermill": {
     "duration": 0.043436,
     "end_time": "2021-08-30T16:43:58.648251",
     "exception": false,
     "start_time": "2021-08-30T16:43:58.604815",
     "status": "completed"
    },
    "tags": []
   },
   "source": [
    "## Feature Engineering"
   ]
  },
  {
   "cell_type": "code",
   "execution_count": 9,
   "id": "96519db2",
   "metadata": {
    "execution": {
     "iopub.execute_input": "2021-08-30T16:43:58.745764Z",
     "iopub.status.busy": "2021-08-30T16:43:58.744701Z",
     "iopub.status.idle": "2021-08-30T16:43:58.749683Z",
     "shell.execute_reply": "2021-08-30T16:43:58.749001Z",
     "shell.execute_reply.started": "2021-08-30T16:40:02.480827Z"
    },
    "papermill": {
     "duration": 0.057688,
     "end_time": "2021-08-30T16:43:58.749828",
     "exception": false,
     "start_time": "2021-08-30T16:43:58.692140",
     "status": "completed"
    },
    "tags": []
   },
   "outputs": [
    {
     "data": {
      "text/plain": [
       "Index(['Date', 'Y', 'Hour', 'Temperature', 'Humidity', 'Wind_Speed',\n",
       "       'Visibility', 'Dew_Point_Temperature', 'Solar_Radiation', 'Rainfall',\n",
       "       'Snowfall', 'Seasons', 'Holiday', 'Functioning_Day'],\n",
       "      dtype='object')"
      ]
     },
     "execution_count": 9,
     "metadata": {},
     "output_type": "execute_result"
    }
   ],
   "source": [
    "df_train.columns = [i.split(\"(\")[0].strip().title().replace(\" \",\"_\") for i in [*df_train.columns]]\n",
    "df_test.columns = [i.split(\"(\")[0].strip().title().replace(\" \",\"_\") for i in [*df_test.columns]]\n",
    "df_train.columns"
   ]
  },
  {
   "cell_type": "code",
   "execution_count": 10,
   "id": "b44a83ca",
   "metadata": {
    "execution": {
     "iopub.execute_input": "2021-08-30T16:43:58.853869Z",
     "iopub.status.busy": "2021-08-30T16:43:58.850472Z",
     "iopub.status.idle": "2021-08-30T16:43:58.860130Z",
     "shell.execute_reply": "2021-08-30T16:43:58.859547Z",
     "shell.execute_reply.started": "2021-08-30T16:40:02.492804Z"
    },
    "papermill": {
     "duration": 0.066141,
     "end_time": "2021-08-30T16:43:58.860276",
     "exception": false,
     "start_time": "2021-08-30T16:43:58.794135",
     "status": "completed"
    },
    "tags": []
   },
   "outputs": [
    {
     "data": {
      "text/plain": [
       "dtype('<M8[ns]')"
      ]
     },
     "execution_count": 10,
     "metadata": {},
     "output_type": "execute_result"
    }
   ],
   "source": [
    "df_train.Date = pd.to_datetime(df_train.Date, format=\"%d/%m/%Y\")\n",
    "df_test.Date = pd.to_datetime(df_test.Date, format=\"%d/%m/%Y\")\n",
    "df_train.Date.dtype"
   ]
  },
  {
   "cell_type": "code",
   "execution_count": 11,
   "id": "5c89386b",
   "metadata": {
    "execution": {
     "iopub.execute_input": "2021-08-30T16:43:58.956248Z",
     "iopub.status.busy": "2021-08-30T16:43:58.955221Z",
     "iopub.status.idle": "2021-08-30T16:43:58.964126Z",
     "shell.execute_reply": "2021-08-30T16:43:58.963429Z",
     "shell.execute_reply.started": "2021-08-30T16:40:02.515183Z"
    },
    "papermill": {
     "duration": 0.059517,
     "end_time": "2021-08-30T16:43:58.964274",
     "exception": false,
     "start_time": "2021-08-30T16:43:58.904757",
     "status": "completed"
    },
    "tags": []
   },
   "outputs": [],
   "source": [
    "df_train.insert(1,\"Day\", df_train.Date.dt.day)\n",
    "df_train.insert(2, \"Month\", df_train.Date.dt.month)\n",
    "df_train.insert(3, \"Year\", df_train.Date.dt.year)"
   ]
  },
  {
   "cell_type": "code",
   "execution_count": 12,
   "id": "6a0a99b9",
   "metadata": {
    "execution": {
     "iopub.execute_input": "2021-08-30T16:43:59.062212Z",
     "iopub.status.busy": "2021-08-30T16:43:59.060429Z",
     "iopub.status.idle": "2021-08-30T16:43:59.068734Z",
     "shell.execute_reply": "2021-08-30T16:43:59.068011Z",
     "shell.execute_reply.started": "2021-08-30T16:40:02.531716Z"
    },
    "papermill": {
     "duration": 0.059306,
     "end_time": "2021-08-30T16:43:59.068890",
     "exception": false,
     "start_time": "2021-08-30T16:43:59.009584",
     "status": "completed"
    },
    "tags": []
   },
   "outputs": [],
   "source": [
    "df_test.insert(1,\"Day\", df_test.Date.dt.day)\n",
    "df_test.insert(2, \"Month\", df_test.Date.dt.month)\n",
    "df_test.insert(3, \"Year\", df_test.Date.dt.year)"
   ]
  },
  {
   "cell_type": "code",
   "execution_count": 13,
   "id": "e13b13ac",
   "metadata": {
    "execution": {
     "iopub.execute_input": "2021-08-30T16:43:59.176039Z",
     "iopub.status.busy": "2021-08-30T16:43:59.175098Z",
     "iopub.status.idle": "2021-08-30T16:43:59.178904Z",
     "shell.execute_reply": "2021-08-30T16:43:59.178372Z",
     "shell.execute_reply.started": "2021-08-30T16:40:02.544899Z"
    },
    "papermill": {
     "duration": 0.061923,
     "end_time": "2021-08-30T16:43:59.179073",
     "exception": false,
     "start_time": "2021-08-30T16:43:59.117150",
     "status": "completed"
    },
    "tags": []
   },
   "outputs": [],
   "source": [
    "df_train.insert(3, 'WeekDay',df_train[\"Date\"].dt.day_name())\n",
    "df_test.insert(3, 'WeekDay', df_test[\"Date\"].dt.day_name())"
   ]
  },
  {
   "cell_type": "code",
   "execution_count": 14,
   "id": "37381fd2",
   "metadata": {
    "execution": {
     "iopub.execute_input": "2021-08-30T16:43:59.283129Z",
     "iopub.status.busy": "2021-08-30T16:43:59.282109Z",
     "iopub.status.idle": "2021-08-30T16:43:59.285165Z",
     "shell.execute_reply": "2021-08-30T16:43:59.284507Z",
     "shell.execute_reply.started": "2021-08-30T16:40:02.561996Z"
    },
    "papermill": {
     "duration": 0.061906,
     "end_time": "2021-08-30T16:43:59.285307",
     "exception": false,
     "start_time": "2021-08-30T16:43:59.223401",
     "status": "completed"
    },
    "tags": []
   },
   "outputs": [],
   "source": [
    "df_train.Holiday.replace(['Holiday','No Holiday'], [0,1], inplace=True)\n",
    "df_test.Holiday.replace(['Holiday','No Holiday'], [0,1], inplace=True)"
   ]
  },
  {
   "cell_type": "code",
   "execution_count": 15,
   "id": "3dd9c5c0",
   "metadata": {
    "execution": {
     "iopub.execute_input": "2021-08-30T16:43:59.385841Z",
     "iopub.status.busy": "2021-08-30T16:43:59.384739Z",
     "iopub.status.idle": "2021-08-30T16:43:59.388067Z",
     "shell.execute_reply": "2021-08-30T16:43:59.387536Z",
     "shell.execute_reply.started": "2021-08-30T16:40:02.585839Z"
    },
    "papermill": {
     "duration": 0.05734,
     "end_time": "2021-08-30T16:43:59.388219",
     "exception": false,
     "start_time": "2021-08-30T16:43:59.330879",
     "status": "completed"
    },
    "tags": []
   },
   "outputs": [],
   "source": [
    "df_train.Functioning_Day = df_train.Functioning_Day.map({\"No\":0, \"Yes\":1})\n",
    "df_test.Functioning_Day = df_test.Functioning_Day.map({\"No\":0, \"Yes\":1})"
   ]
  },
  {
   "cell_type": "code",
   "execution_count": 16,
   "id": "cedbd7d1",
   "metadata": {
    "execution": {
     "iopub.execute_input": "2021-08-30T16:43:59.488692Z",
     "iopub.status.busy": "2021-08-30T16:43:59.487926Z",
     "iopub.status.idle": "2021-08-30T16:43:59.492178Z",
     "shell.execute_reply": "2021-08-30T16:43:59.491566Z",
     "shell.execute_reply.started": "2021-08-30T16:40:02.603519Z"
    },
    "papermill": {
     "duration": 0.05785,
     "end_time": "2021-08-30T16:43:59.492328",
     "exception": false,
     "start_time": "2021-08-30T16:43:59.434478",
     "status": "completed"
    },
    "tags": []
   },
   "outputs": [],
   "source": [
    "df_train.Year = df_train.Year.map({2017:0, 2018:1})\n",
    "df_test.Year = df_test.Year.map({2017:0, 2018:1})"
   ]
  },
  {
   "cell_type": "code",
   "execution_count": 17,
   "id": "44f66f2c",
   "metadata": {
    "execution": {
     "iopub.execute_input": "2021-08-30T16:43:59.593802Z",
     "iopub.status.busy": "2021-08-30T16:43:59.593042Z",
     "iopub.status.idle": "2021-08-30T16:43:59.596773Z",
     "shell.execute_reply": "2021-08-30T16:43:59.596176Z"
    },
    "papermill": {
     "duration": 0.059106,
     "end_time": "2021-08-30T16:43:59.596921",
     "exception": false,
     "start_time": "2021-08-30T16:43:59.537815",
     "status": "completed"
    },
    "tags": []
   },
   "outputs": [],
   "source": [
    "df_train.Seasons = df_train.Seasons.map({\"Winter\":1, 'Autumn':2, 'Spring':3, 'Summer':4})\n",
    "df_test.Seasons = df_test.Seasons.map({\"Winter\":1, 'Autumn':2, 'Spring':3, 'Summer':4})"
   ]
  },
  {
   "cell_type": "code",
   "execution_count": 18,
   "id": "38664d83",
   "metadata": {
    "execution": {
     "iopub.execute_input": "2021-08-30T16:43:59.702348Z",
     "iopub.status.busy": "2021-08-30T16:43:59.701628Z",
     "iopub.status.idle": "2021-08-30T16:43:59.704995Z",
     "shell.execute_reply": "2021-08-30T16:43:59.704331Z",
     "shell.execute_reply.started": "2021-08-30T16:40:02.614070Z"
    },
    "papermill": {
     "duration": 0.062681,
     "end_time": "2021-08-30T16:43:59.705139",
     "exception": false,
     "start_time": "2021-08-30T16:43:59.642458",
     "status": "completed"
    },
    "tags": []
   },
   "outputs": [],
   "source": [
    "df_train.insert(2, 'label_day_night', df_train['Hour'].apply(lambda x : 0 if (x<7) else( 1)))\n",
    "df_test.insert(2, 'label_day_night', df_test['Hour'].apply(lambda x : 0 if (x<7) else( 1)))"
   ]
  },
  {
   "cell_type": "code",
   "execution_count": 19,
   "id": "97cdac6f",
   "metadata": {
    "execution": {
     "iopub.execute_input": "2021-08-30T16:43:59.805608Z",
     "iopub.status.busy": "2021-08-30T16:43:59.804908Z",
     "iopub.status.idle": "2021-08-30T16:43:59.812486Z",
     "shell.execute_reply": "2021-08-30T16:43:59.811903Z",
     "shell.execute_reply.started": "2021-08-30T16:40:02.637474Z"
    },
    "papermill": {
     "duration": 0.062744,
     "end_time": "2021-08-30T16:43:59.812655",
     "exception": false,
     "start_time": "2021-08-30T16:43:59.749911",
     "status": "completed"
    },
    "tags": []
   },
   "outputs": [],
   "source": [
    "df_train[\"Working_Day\"] = 1\n",
    "df_train.loc[(df_train.WeekDay==\"Saturday\")|(df_train.WeekDay==\"Sunday\"), \"Working_Day\"] = 0\n",
    "\n",
    "df_test[\"Working_Day\"] = 1\n",
    "df_test.loc[(df_test.WeekDay==\"Saturday\")|(df_test.WeekDay==\"Sunday\"), \"Working_Day\"] = 0"
   ]
  },
  {
   "cell_type": "code",
   "execution_count": 20,
   "id": "cb25504c",
   "metadata": {
    "execution": {
     "iopub.execute_input": "2021-08-30T16:43:59.909614Z",
     "iopub.status.busy": "2021-08-30T16:43:59.908781Z",
     "iopub.status.idle": "2021-08-30T16:43:59.937781Z",
     "shell.execute_reply": "2021-08-30T16:43:59.937057Z",
     "shell.execute_reply.started": "2021-08-30T16:40:02.657197Z"
    },
    "papermill": {
     "duration": 0.079056,
     "end_time": "2021-08-30T16:43:59.937977",
     "exception": false,
     "start_time": "2021-08-30T16:43:59.858921",
     "status": "completed"
    },
    "tags": []
   },
   "outputs": [],
   "source": [
    "df_train.Humidity[df_train.Humidity==0] = df_train.Humidity.mean()\n",
    "df_test.Humidity[df_test.Humidity==0] = df_test.Humidity.mean()"
   ]
  },
  {
   "cell_type": "code",
   "execution_count": 21,
   "id": "988a4264",
   "metadata": {
    "execution": {
     "iopub.execute_input": "2021-08-30T16:44:00.033355Z",
     "iopub.status.busy": "2021-08-30T16:44:00.032227Z",
     "iopub.status.idle": "2021-08-30T16:44:00.040629Z",
     "shell.execute_reply": "2021-08-30T16:44:00.041138Z",
     "shell.execute_reply.started": "2021-08-30T16:40:02.679171Z"
    },
    "papermill": {
     "duration": 0.057706,
     "end_time": "2021-08-30T16:44:00.041332",
     "exception": false,
     "start_time": "2021-08-30T16:43:59.983626",
     "status": "completed"
    },
    "tags": []
   },
   "outputs": [],
   "source": [
    "categoryVariableList = [\"WeekDay\"]\n",
    "for var in categoryVariableList:\n",
    "    df_train[var] = df_train[var].astype(\"category\")\n",
    "    df_test[var] = df_test[var].astype(\"category\")"
   ]
  },
  {
   "cell_type": "code",
   "execution_count": 22,
   "id": "ce41bb0e",
   "metadata": {
    "execution": {
     "iopub.execute_input": "2021-08-30T16:44:00.135145Z",
     "iopub.status.busy": "2021-08-30T16:44:00.134076Z",
     "iopub.status.idle": "2021-08-30T16:44:00.159584Z",
     "shell.execute_reply": "2021-08-30T16:44:00.158090Z",
     "shell.execute_reply.started": "2021-08-30T16:40:02.690579Z"
    },
    "papermill": {
     "duration": 0.073979,
     "end_time": "2021-08-30T16:44:00.159756",
     "exception": false,
     "start_time": "2021-08-30T16:44:00.085777",
     "status": "completed"
    },
    "tags": []
   },
   "outputs": [],
   "source": [
    "for col in categoryVariableList:\n",
    "    train_dummies_col = pd.get_dummies(df_train[col])\n",
    "    test_dummies_col = pd.get_dummies(df_test[col])\n",
    "    \n",
    "    df_train = pd.concat([df_train, train_dummies_col],axis=1)\n",
    "    df_test = pd.concat([df_test, test_dummies_col],axis=1)\n",
    "    \n",
    "    df_train.drop(col, axis=1, inplace=True)\n",
    "    df_test.drop(col, axis=1, inplace=True)"
   ]
  },
  {
   "cell_type": "code",
   "execution_count": 23,
   "id": "252f7995",
   "metadata": {
    "execution": {
     "iopub.execute_input": "2021-08-30T16:44:00.256005Z",
     "iopub.status.busy": "2021-08-30T16:44:00.254959Z",
     "iopub.status.idle": "2021-08-30T16:44:00.258096Z",
     "shell.execute_reply": "2021-08-30T16:44:00.258598Z",
     "shell.execute_reply.started": "2021-08-30T16:40:02.711637Z"
    },
    "papermill": {
     "duration": 0.054227,
     "end_time": "2021-08-30T16:44:00.258774",
     "exception": false,
     "start_time": "2021-08-30T16:44:00.204547",
     "status": "completed"
    },
    "tags": []
   },
   "outputs": [
    {
     "data": {
      "text/plain": [
       "Index(['Date', 'Day', 'label_day_night', 'Month', 'Year', 'Y', 'Hour',\n",
       "       'Temperature', 'Humidity', 'Wind_Speed', 'Visibility',\n",
       "       'Dew_Point_Temperature', 'Solar_Radiation', 'Rainfall', 'Snowfall',\n",
       "       'Seasons', 'Holiday', 'Functioning_Day', 'Working_Day', 'Friday',\n",
       "       'Monday', 'Saturday', 'Sunday', 'Thursday', 'Tuesday', 'Wednesday'],\n",
       "      dtype='object')"
      ]
     },
     "execution_count": 23,
     "metadata": {},
     "output_type": "execute_result"
    }
   ],
   "source": [
    "df_train.columns"
   ]
  },
  {
   "cell_type": "code",
   "execution_count": 24,
   "id": "6d0db539",
   "metadata": {
    "execution": {
     "iopub.execute_input": "2021-08-30T16:44:00.355349Z",
     "iopub.status.busy": "2021-08-30T16:44:00.354618Z",
     "iopub.status.idle": "2021-08-30T16:44:00.360577Z",
     "shell.execute_reply": "2021-08-30T16:44:00.361112Z",
     "shell.execute_reply.started": "2021-08-30T16:40:02.720987Z"
    },
    "papermill": {
     "duration": 0.057092,
     "end_time": "2021-08-30T16:44:00.361304",
     "exception": false,
     "start_time": "2021-08-30T16:44:00.304212",
     "status": "completed"
    },
    "tags": []
   },
   "outputs": [],
   "source": [
    "columns = df_train.columns.tolist()\n",
    "columns.append(columns.pop(5))\n",
    "df_train = df_train[columns]"
   ]
  },
  {
   "cell_type": "code",
   "execution_count": 25,
   "id": "bfc1d1b9",
   "metadata": {
    "execution": {
     "iopub.execute_input": "2021-08-30T16:44:00.455332Z",
     "iopub.status.busy": "2021-08-30T16:44:00.454558Z",
     "iopub.status.idle": "2021-08-30T16:44:00.461600Z",
     "shell.execute_reply": "2021-08-30T16:44:00.462175Z",
     "shell.execute_reply.started": "2021-08-30T16:40:02.736432Z"
    },
    "papermill": {
     "duration": 0.055924,
     "end_time": "2021-08-30T16:44:00.462369",
     "exception": false,
     "start_time": "2021-08-30T16:44:00.406445",
     "status": "completed"
    },
    "tags": []
   },
   "outputs": [],
   "source": [
    "df_train.drop(\"Date\",axis=1, inplace=True)\n",
    "df_test.drop(\"Date\",axis=1, inplace=True)"
   ]
  },
  {
   "cell_type": "code",
   "execution_count": 26,
   "id": "96a34d50",
   "metadata": {
    "execution": {
     "iopub.execute_input": "2021-08-30T16:44:00.565142Z",
     "iopub.status.busy": "2021-08-30T16:44:00.564397Z",
     "iopub.status.idle": "2021-08-30T16:44:00.598303Z",
     "shell.execute_reply": "2021-08-30T16:44:00.597713Z",
     "shell.execute_reply.started": "2021-08-30T16:40:02.752297Z"
    },
    "papermill": {
     "duration": 0.08895,
     "end_time": "2021-08-30T16:44:00.598472",
     "exception": false,
     "start_time": "2021-08-30T16:44:00.509522",
     "status": "completed"
    },
    "tags": []
   },
   "outputs": [],
   "source": [
    "numerical_feature = [\"Temperature\",\"Humidity\",\"Rainfall\",\n",
    "                     \"Visibility\",\"Dew_Point_Temperature\",\n",
    "                     'Wind_Speed','Solar_Radiation',\"Snowfall\"]\n",
    "\n",
    "scale = StandardScaler()\n",
    "df_train[numerical_feature] = scale.fit_transform(df_train[numerical_feature])\n",
    "df_test[numerical_feature] = scale.transform(df_test[numerical_feature])"
   ]
  },
  {
   "cell_type": "markdown",
   "id": "f24a0965",
   "metadata": {
    "papermill": {
     "duration": 0.044681,
     "end_time": "2021-08-30T16:44:00.688908",
     "exception": false,
     "start_time": "2021-08-30T16:44:00.644227",
     "status": "completed"
    },
    "tags": []
   },
   "source": [
    "## Feature Selection"
   ]
  },
  {
   "cell_type": "code",
   "execution_count": 27,
   "id": "05850bf1",
   "metadata": {
    "execution": {
     "iopub.execute_input": "2021-08-30T16:44:00.786772Z",
     "iopub.status.busy": "2021-08-30T16:44:00.786046Z",
     "iopub.status.idle": "2021-08-30T16:44:00.954120Z",
     "shell.execute_reply": "2021-08-30T16:44:00.954639Z",
     "shell.execute_reply.started": "2021-08-30T16:40:02.817569Z"
    },
    "papermill": {
     "duration": 0.219698,
     "end_time": "2021-08-30T16:44:00.954812",
     "exception": false,
     "start_time": "2021-08-30T16:44:00.735114",
     "status": "completed"
    },
    "tags": []
   },
   "outputs": [
    {
     "data": {
      "text/plain": [
       "[('Day', 0.0),\n",
       " ('label_day_night', 334.6193639208106),\n",
       " ('Month', 30.992348692083905),\n",
       " ('Year', 278.4497325424134),\n",
       " ('Hour', 10.144521219776577),\n",
       " ('Temperature', 300.0545649644535),\n",
       " ('Humidity', -148.9167863654535),\n",
       " ('Wind_Speed', 10.809961592874926),\n",
       " ('Visibility', 17.155293174865843),\n",
       " ('Dew_Point_Temperature', 0.0),\n",
       " ('Solar_Radiation', -104.25112418510713),\n",
       " ('Rainfall', -58.78994791977814),\n",
       " ('Snowfall', -0.0),\n",
       " ('Seasons', 38.192632245534185),\n",
       " ('Holiday', 76.42616625347353),\n",
       " ('Functioning_Day', 837.8111149709567),\n",
       " ('Working_Day', 26.198670172894566),\n",
       " ('Friday', 19.9619302888025),\n",
       " ('Monday', -0.0),\n",
       " ('Saturday', -0.0),\n",
       " ('Sunday', -38.763299263775686),\n",
       " ('Thursday', -12.896050534252792),\n",
       " ('Tuesday', 21.73285883988257),\n",
       " ('Wednesday', 18.753620845746667)]"
      ]
     },
     "execution_count": 27,
     "metadata": {},
     "output_type": "execute_result"
    }
   ],
   "source": [
    "lr = Lasso(alpha=0.1, normalize=True)\n",
    "lr.fit(df_train.drop(['Y'], axis=1), df_train.Y)\n",
    "[*zip(df_train.columns[:-1], lr.coef_)]"
   ]
  },
  {
   "cell_type": "code",
   "execution_count": 28,
   "id": "04c45dca",
   "metadata": {
    "execution": {
     "iopub.execute_input": "2021-08-30T16:44:01.052293Z",
     "iopub.status.busy": "2021-08-30T16:44:01.051472Z",
     "iopub.status.idle": "2021-08-30T16:44:01.054004Z",
     "shell.execute_reply": "2021-08-30T16:44:01.054465Z",
     "shell.execute_reply.started": "2021-08-30T16:40:02.869084Z"
    },
    "papermill": {
     "duration": 0.053391,
     "end_time": "2021-08-30T16:44:01.054633",
     "exception": false,
     "start_time": "2021-08-30T16:44:01.001242",
     "status": "completed"
    },
    "tags": []
   },
   "outputs": [],
   "source": [
    "useful_features = set(df_train.columns).difference([\"Day\",\"Snowfall\",\n",
    "                                                    \"Dew_Point_Temperature\",\n",
    "                                                    \"Monday\",\"Saturday\",\"Y\"])"
   ]
  },
  {
   "cell_type": "code",
   "execution_count": 29,
   "id": "c97c91f1",
   "metadata": {
    "execution": {
     "iopub.execute_input": "2021-08-30T16:44:01.153285Z",
     "iopub.status.busy": "2021-08-30T16:44:01.152485Z",
     "iopub.status.idle": "2021-08-30T16:44:01.155467Z",
     "shell.execute_reply": "2021-08-30T16:44:01.155993Z",
     "shell.execute_reply.started": "2021-08-30T16:40:02.876783Z"
    },
    "papermill": {
     "duration": 0.055771,
     "end_time": "2021-08-30T16:44:01.156175",
     "exception": false,
     "start_time": "2021-08-30T16:44:01.100404",
     "status": "completed"
    },
    "tags": []
   },
   "outputs": [],
   "source": [
    "# loss function\n",
    "def RMSLE(y_acual, y_pred):\n",
    "    return np.sqrt(mean_squared_log_error(y_acual, y_pred))"
   ]
  },
  {
   "cell_type": "markdown",
   "id": "6122edd8",
   "metadata": {
    "papermill": {
     "duration": 0.045144,
     "end_time": "2021-08-30T16:44:01.248197",
     "exception": false,
     "start_time": "2021-08-30T16:44:01.203053",
     "status": "completed"
    },
    "tags": []
   },
   "source": [
    "**Train Validation Split**"
   ]
  },
  {
   "cell_type": "code",
   "execution_count": 30,
   "id": "878e0275",
   "metadata": {
    "execution": {
     "iopub.execute_input": "2021-08-30T16:44:01.348541Z",
     "iopub.status.busy": "2021-08-30T16:44:01.347745Z",
     "iopub.status.idle": "2021-08-30T16:44:01.355969Z",
     "shell.execute_reply": "2021-08-30T16:44:01.355237Z",
     "shell.execute_reply.started": "2021-08-30T16:40:02.890407Z"
    },
    "papermill": {
     "duration": 0.061888,
     "end_time": "2021-08-30T16:44:01.356124",
     "exception": false,
     "start_time": "2021-08-30T16:44:01.294236",
     "status": "completed"
    },
    "tags": []
   },
   "outputs": [],
   "source": [
    "X_train, X_val, y_train, y_val = train_test_split(df_train[useful_features],\n",
    "                                                  df_train.Y,\n",
    "                                                  test_size=0.2,\n",
    "                                                  random_state=2)\n",
    "\n",
    "X_test = df_test[useful_features]"
   ]
  },
  {
   "cell_type": "markdown",
   "id": "58d0eceb",
   "metadata": {
    "papermill": {
     "duration": 0.045047,
     "end_time": "2021-08-30T16:44:01.447622",
     "exception": false,
     "start_time": "2021-08-30T16:44:01.402575",
     "status": "completed"
    },
    "tags": []
   },
   "source": [
    "<div style=\"color:white;\n",
    "           display:fill;\n",
    "           border-radius:5px;\n",
    "           background-color:#5642C5;\n",
    "           font-size:110%;\n",
    "           font-family:Verdana;\n",
    "           letter-spacing:0.5px\">\n",
    "\n",
    "<span style='padding: 10px; font-family:Helvetica; font-size:30px' > Modeling </span>\n",
    "</div>"
   ]
  },
  {
   "cell_type": "markdown",
   "id": "8e22bb12",
   "metadata": {
    "papermill": {
     "duration": 0.045101,
     "end_time": "2021-08-30T16:44:01.538686",
     "exception": false,
     "start_time": "2021-08-30T16:44:01.493585",
     "status": "completed"
    },
    "tags": []
   },
   "source": [
    "## CatBoost"
   ]
  },
  {
   "cell_type": "code",
   "execution_count": 31,
   "id": "4f42e926",
   "metadata": {
    "execution": {
     "iopub.execute_input": "2021-08-30T16:44:01.642921Z",
     "iopub.status.busy": "2021-08-30T16:44:01.642104Z",
     "iopub.status.idle": "2021-08-30T16:44:31.453498Z",
     "shell.execute_reply": "2021-08-30T16:44:31.452211Z",
     "shell.execute_reply.started": "2021-08-30T16:40:02.908796Z"
    },
    "papermill": {
     "duration": 29.869746,
     "end_time": "2021-08-30T16:44:31.453735",
     "exception": false,
     "start_time": "2021-08-30T16:44:01.583989",
     "status": "completed"
    },
    "tags": []
   },
   "outputs": [
    {
     "name": "stdout",
     "output_type": "stream",
     "text": [
      "RMSLE Trian ====>  0.120193\n",
      "==============================\n",
      "RMSLE Validation ====>  0.328544\n"
     ]
    }
   ],
   "source": [
    "catBoost = CatBoostRegressor(objective='Poisson',\n",
    "                             loss_function=RMSLE,\n",
    "                             n_estimators=10000,\n",
    "                             random_state=0,\n",
    "                             learning_rate=0.03,\n",
    "                             subsample=0.75,\n",
    "                             max_depth=5,\n",
    "                             verbose=0)\n",
    "\n",
    "catBoost.fit(X_train,y_train)\n",
    "\n",
    "y_pred = [int(i) for i in catBoost.predict(X_train)]\n",
    "\n",
    "rmsle_train = np.sqrt(mean_squared_log_error(y_train, y_pred))\n",
    "rmsle_val = np.sqrt(mean_squared_log_error(y_val, catBoost.predict(X_val)))\n",
    "\n",
    "print(\"RMSLE Trian ====> \",round(rmsle_train,6))\n",
    "print('='*30)\n",
    "print(\"RMSLE Validation ====> \",round(rmsle_val,6))"
   ]
  },
  {
   "cell_type": "code",
   "execution_count": 32,
   "id": "ec1d71d0",
   "metadata": {
    "execution": {
     "iopub.execute_input": "2021-08-30T16:44:31.553854Z",
     "iopub.status.busy": "2021-08-30T16:44:31.552754Z",
     "iopub.status.idle": "2021-08-30T16:44:31.575828Z",
     "shell.execute_reply": "2021-08-30T16:44:31.576406Z",
     "shell.execute_reply.started": "2021-08-30T16:40:32.436105Z"
    },
    "papermill": {
     "duration": 0.076299,
     "end_time": "2021-08-30T16:44:31.576599",
     "exception": false,
     "start_time": "2021-08-30T16:44:31.500300",
     "status": "completed"
    },
    "tags": []
   },
   "outputs": [],
   "source": [
    "catBoost_pred = [int(i) for i in catBoost.predict(X_test)]"
   ]
  },
  {
   "cell_type": "markdown",
   "id": "ad72c7fb",
   "metadata": {
    "papermill": {
     "duration": 0.045157,
     "end_time": "2021-08-30T16:44:31.667756",
     "exception": false,
     "start_time": "2021-08-30T16:44:31.622599",
     "status": "completed"
    },
    "tags": []
   },
   "source": [
    "## XGBoost"
   ]
  },
  {
   "cell_type": "code",
   "execution_count": 33,
   "id": "1b784b51",
   "metadata": {
    "execution": {
     "iopub.execute_input": "2021-08-30T16:44:31.767804Z",
     "iopub.status.busy": "2021-08-30T16:44:31.766988Z",
     "iopub.status.idle": "2021-08-30T16:44:52.206979Z",
     "shell.execute_reply": "2021-08-30T16:44:52.207721Z",
     "shell.execute_reply.started": "2021-08-30T16:40:32.465560Z"
    },
    "papermill": {
     "duration": 20.494749,
     "end_time": "2021-08-30T16:44:52.207986",
     "exception": false,
     "start_time": "2021-08-30T16:44:31.713237",
     "status": "completed"
    },
    "tags": []
   },
   "outputs": [
    {
     "name": "stdout",
     "output_type": "stream",
     "text": [
      "RMSLE Train =====> 0.158352\n",
      "==============================\n",
      "RMSLE Validation ====> 0.330620\n"
     ]
    }
   ],
   "source": [
    "xg_reg = xgb.XGBRegressor(objective='count:poisson',\n",
    "                          random_state=0,\n",
    "                          loss_function=RMSLE,\n",
    "                          colsample_bytree = 0.6, \n",
    "                          learning_rate = 0.02,\n",
    "                          gamma = 4,\n",
    "                          n_estimators = 10000,\n",
    "                          max_depth=4 ,\n",
    "                          subsample=0.75,\n",
    "                          min_child_weight=6)\n",
    "\n",
    "xg_reg = xg_reg.fit(X_train,y_train)\n",
    "\n",
    "y_pred = [int(i) for i in xg_reg.predict(X_train)]\n",
    "\n",
    "rmsle_train = np.sqrt(mean_squared_log_error(y_train, y_pred))\n",
    "rmsle_val = np.sqrt(mean_squared_log_error(y_val, xg_reg.predict(X_val)))\n",
    "\n",
    "print(\"RMSLE Train =====> %f\" % (round(rmsle_train,6)))\n",
    "print('='*30)\n",
    "print(\"RMSLE Validation ====> %f\"%(round(rmsle_val,6)))"
   ]
  },
  {
   "cell_type": "code",
   "execution_count": 34,
   "id": "db3d0d66",
   "metadata": {
    "execution": {
     "iopub.execute_input": "2021-08-30T16:44:52.311070Z",
     "iopub.status.busy": "2021-08-30T16:44:52.310316Z",
     "iopub.status.idle": "2021-08-30T16:44:52.314045Z",
     "shell.execute_reply": "2021-08-30T16:44:52.314556Z",
     "shell.execute_reply.started": "2021-08-30T16:40:53.375118Z"
    },
    "papermill": {
     "duration": 0.057123,
     "end_time": "2021-08-30T16:44:52.314726",
     "exception": false,
     "start_time": "2021-08-30T16:44:52.257603",
     "status": "completed"
    },
    "tags": []
   },
   "outputs": [
    {
     "name": "stdout",
     "output_type": "stream",
     "text": [
      "Train Score =  99.42 %\n"
     ]
    }
   ],
   "source": [
    "print(\"Train Score = \",round(r2_score(y_pred, y_train)*100,2),\"%\")"
   ]
  },
  {
   "cell_type": "code",
   "execution_count": 35,
   "id": "a7c42fc2",
   "metadata": {
    "execution": {
     "iopub.execute_input": "2021-08-30T16:44:52.412115Z",
     "iopub.status.busy": "2021-08-30T16:44:52.411052Z",
     "iopub.status.idle": "2021-08-30T16:44:53.233263Z",
     "shell.execute_reply": "2021-08-30T16:44:53.232125Z",
     "shell.execute_reply.started": "2021-08-30T16:40:53.387784Z"
    },
    "papermill": {
     "duration": 0.871856,
     "end_time": "2021-08-30T16:44:53.233449",
     "exception": false,
     "start_time": "2021-08-30T16:44:52.361593",
     "status": "completed"
    },
    "tags": []
   },
   "outputs": [
    {
     "name": "stdout",
     "output_type": "stream",
     "text": [
      "R-squared for train data 0.9942925650044344\n"
     ]
    },
    {
     "data": {
      "image/png": "[encoded data removed]",
      "text/plain": [
       "<Figure size 576x396 with 1 Axes>"
      ]
     },
     "metadata": {},
     "output_type": "display_data"
    }
   ],
   "source": [
    "plt.style.use('seaborn')\n",
    "y_pred = xg_reg.predict(X_train)\n",
    "print(\"R-squared for train data\",xg_reg.score(X_train, y_train))\n",
    "sns.scatterplot(y_train, y_pred)\n",
    "plt.title('Train count Vs Prediction')\n",
    "plt.xlabel(\"y_train\")\n",
    "plt.ylabel(\"y_pred\")\n",
    "plt.show()"
   ]
  },
  {
   "cell_type": "code",
   "execution_count": 36,
   "id": "3c8e5857",
   "metadata": {
    "execution": {
     "iopub.execute_input": "2021-08-30T16:44:53.336774Z",
     "iopub.status.busy": "2021-08-30T16:44:53.335208Z",
     "iopub.status.idle": "2021-08-30T16:44:53.523420Z",
     "shell.execute_reply": "2021-08-30T16:44:53.524483Z",
     "shell.execute_reply.started": "2021-08-30T16:40:54.160139Z"
    },
    "papermill": {
     "duration": 0.242543,
     "end_time": "2021-08-30T16:44:53.524687",
     "exception": false,
     "start_time": "2021-08-30T16:44:53.282144",
     "status": "completed"
    },
    "tags": []
   },
   "outputs": [],
   "source": [
    "xgb_pred = [int(i) for i in xg_reg.predict(X_test)]"
   ]
  },
  {
   "cell_type": "markdown",
   "id": "666a0102",
   "metadata": {
    "papermill": {
     "duration": 0.047949,
     "end_time": "2021-08-30T16:44:53.623080",
     "exception": false,
     "start_time": "2021-08-30T16:44:53.575131",
     "status": "completed"
    },
    "tags": []
   },
   "source": [
    "## GBoost"
   ]
  },
  {
   "cell_type": "code",
   "execution_count": 37,
   "id": "2fb9421f",
   "metadata": {
    "execution": {
     "iopub.execute_input": "2021-08-30T16:44:53.728240Z",
     "iopub.status.busy": "2021-08-30T16:44:53.727091Z",
     "iopub.status.idle": "2021-08-30T16:44:53.729358Z",
     "shell.execute_reply": "2021-08-30T16:44:53.729896Z",
     "shell.execute_reply.started": "2021-08-30T16:40:54.351422Z"
    },
    "papermill": {
     "duration": 0.057366,
     "end_time": "2021-08-30T16:44:53.730089",
     "exception": false,
     "start_time": "2021-08-30T16:44:53.672723",
     "status": "completed"
    },
    "tags": []
   },
   "outputs": [],
   "source": [
    "useful_features = set(df_train.columns).difference([\"Day\",\"Snowfall\",\n",
    "                                                    \"Dew_Point_Temperature\",\n",
    "                                                    \"Friday\",\"Summer\",\"Y\"])"
   ]
  },
  {
   "cell_type": "code",
   "execution_count": 38,
   "id": "1f7ae35d",
   "metadata": {
    "execution": {
     "iopub.execute_input": "2021-08-30T16:44:53.830698Z",
     "iopub.status.busy": "2021-08-30T16:44:53.829639Z",
     "iopub.status.idle": "2021-08-30T16:44:53.842748Z",
     "shell.execute_reply": "2021-08-30T16:44:53.842184Z",
     "shell.execute_reply.started": "2021-08-30T16:40:54.360121Z"
    },
    "papermill": {
     "duration": 0.064422,
     "end_time": "2021-08-30T16:44:53.842906",
     "exception": false,
     "start_time": "2021-08-30T16:44:53.778484",
     "status": "completed"
    },
    "tags": []
   },
   "outputs": [],
   "source": [
    "X_train, X_val, y_train, y_val = train_test_split(df_train[useful_features],\n",
    "                                                  df_train.Y,\n",
    "                                                  test_size=0.2,\n",
    "                                                  random_state=53)\n",
    "\n",
    "X_test = df_test[useful_features]\n",
    "y_train_log = np.log1p(y_train)"
   ]
  },
  {
   "cell_type": "code",
   "execution_count": 39,
   "id": "ad50cbbd",
   "metadata": {
    "execution": {
     "iopub.execute_input": "2021-08-30T16:44:53.952602Z",
     "iopub.status.busy": "2021-08-30T16:44:53.951438Z",
     "iopub.status.idle": "2021-08-30T16:44:55.790398Z",
     "shell.execute_reply": "2021-08-30T16:44:55.790925Z",
     "shell.execute_reply.started": "2021-08-30T16:40:54.380239Z"
    },
    "papermill": {
     "duration": 1.898984,
     "end_time": "2021-08-30T16:44:55.791121",
     "exception": false,
     "start_time": "2021-08-30T16:44:53.892137",
     "status": "completed"
    },
    "tags": []
   },
   "outputs": [
    {
     "name": "stdout",
     "output_type": "stream",
     "text": [
      "RMSLE Validation ====>  0.34194343497141866\n"
     ]
    }
   ],
   "source": [
    "params = {'n_estimators': 240,\n",
    "          'max_depth': 4,\n",
    "          'random_state': 41,\n",
    "          'min_samples_leaf': 6,\n",
    "          'learning_rate': 0.1,\n",
    "          'subsample': 0.75,\n",
    "          'loss': 'ls'}\n",
    "\n",
    "reg = GradientBoostingRegressor(**params)\n",
    "reg.fit(X_train, y_train_log)\n",
    "val_pred = np.sqrt(mean_squared_log_error(y_val, np.exp(reg.predict(X_val))))\n",
    "print(\"RMSLE Validation ====> \", val_pred)"
   ]
  },
  {
   "cell_type": "code",
   "execution_count": 40,
   "id": "1618ba94",
   "metadata": {
    "execution": {
     "iopub.execute_input": "2021-08-30T16:44:55.891453Z",
     "iopub.status.busy": "2021-08-30T16:44:55.890781Z",
     "iopub.status.idle": "2021-08-30T16:44:55.908972Z",
     "shell.execute_reply": "2021-08-30T16:44:55.909596Z",
     "shell.execute_reply.started": "2021-08-30T16:40:56.220902Z"
    },
    "papermill": {
     "duration": 0.070149,
     "end_time": "2021-08-30T16:44:55.909795",
     "exception": false,
     "start_time": "2021-08-30T16:44:55.839646",
     "status": "completed"
    },
    "tags": []
   },
   "outputs": [],
   "source": [
    "gboost_pred = [int(i) for i in np.exp(reg.predict(X_test))]"
   ]
  },
  {
   "cell_type": "markdown",
   "id": "923ab9a2",
   "metadata": {
    "papermill": {
     "duration": 0.049327,
     "end_time": "2021-08-30T16:44:56.008649",
     "exception": false,
     "start_time": "2021-08-30T16:44:55.959322",
     "status": "completed"
    },
    "tags": []
   },
   "source": [
    "**Save Prediction**"
   ]
  },
  {
   "cell_type": "code",
   "execution_count": 41,
   "id": "47dbda35",
   "metadata": {
    "execution": {
     "iopub.execute_input": "2021-08-30T16:44:56.115887Z",
     "iopub.status.busy": "2021-08-30T16:44:56.115178Z",
     "iopub.status.idle": "2021-08-30T16:44:56.117170Z",
     "shell.execute_reply": "2021-08-30T16:44:56.117653Z",
     "shell.execute_reply.started": "2021-08-30T16:40:56.354142Z"
    },
    "papermill": {
     "duration": 0.058361,
     "end_time": "2021-08-30T16:44:56.117837",
     "exception": false,
     "start_time": "2021-08-30T16:44:56.059476",
     "status": "completed"
    },
    "tags": []
   },
   "outputs": [],
   "source": [
    "y_avg =(0.85*np.array(gboost_pred)+np.array(catBoost_pred)+np.array(xgb_pred))/3"
   ]
  },
  {
   "cell_type": "code",
   "execution_count": 42,
   "id": "56afc71c",
   "metadata": {
    "execution": {
     "iopub.execute_input": "2021-08-30T16:44:56.220338Z",
     "iopub.status.busy": "2021-08-30T16:44:56.219606Z",
     "iopub.status.idle": "2021-08-30T16:44:56.248185Z",
     "shell.execute_reply": "2021-08-30T16:44:56.248799Z",
     "shell.execute_reply.started": "2021-08-30T16:40:56.363651Z"
    },
    "papermill": {
     "duration": 0.081454,
     "end_time": "2021-08-30T16:44:56.249018",
     "exception": false,
     "start_time": "2021-08-30T16:44:56.167564",
     "status": "completed"
    },
    "tags": []
   },
   "outputs": [],
   "source": [
    "url = '../input/seoul-bike-rental-ai-pro-iti/sample_submission.csv'\n",
    "sample_submission = pd.read_csv(url,index_col='ID')\n",
    "sample_submission.y = [int(i) for i in y_avg]\n",
    "sample_submission.to_csv('submission.csv')"
   ]
  },
  {
   "cell_type": "code",
   "execution_count": 43,
   "id": "3c478071",
   "metadata": {
    "execution": {
     "iopub.execute_input": "2021-08-30T16:44:56.350195Z",
     "iopub.status.busy": "2021-08-30T16:44:56.349392Z",
     "iopub.status.idle": "2021-08-30T16:44:56.367089Z",
     "shell.execute_reply": "2021-08-30T16:44:56.367663Z",
     "shell.execute_reply.started": "2021-08-30T16:40:56.396309Z"
    },
    "papermill": {
     "duration": 0.069801,
     "end_time": "2021-08-30T16:44:56.367863",
     "exception": false,
     "start_time": "2021-08-30T16:44:56.298062",
     "status": "completed"
    },
    "tags": []
   },
   "outputs": [],
   "source": [
    "y_tung =(0.9*np.array(gboost_pred)+np.array(catBoost_pred))/2\n",
    "sample_submission.y = [int(i) for i in y_tung]\n",
    "sample_submission.to_csv('submission_temp.csv')"
   ]
  },
  {
   "cell_type": "markdown",
   "id": "16a64048",
   "metadata": {
    "papermill": {
     "duration": 0.048983,
     "end_time": "2021-08-30T16:44:56.467148",
     "exception": false,
     "start_time": "2021-08-30T16:44:56.418165",
     "status": "completed"
    },
    "tags": []
   },
   "source": [
    "## Thanks For Read My NoteBook :)"
   ]
  }
 ],
 "metadata": {
  "kernelspec": {
   "display_name": "Python 3",
   "language": "python",
   "name": "python3"
  },
  "language_info": {
   "codemirror_mode": {
    "name": "ipython",
    "version": 3
   },
   "file_extension": ".py",
   "mimetype": "text/x-python",
   "name": "python",
   "nbconvert_exporter": "python",
   "pygments_lexer": "ipython3",
   "version": "3.7.10"
  },
  "papermill": {
   "default_parameters": {},
   "duration": 71.876127,
   "end_time": "2021-08-30T16:44:58.021725",
   "environment_variables": {},
   "exception": null,
   "input_path": "__notebook__.ipynb",
   "output_path": "__notebook__.ipynb",
   "parameters": {},
   "start_time": "2021-08-30T16:43:46.145598",
   "version": "2.3.3"
  }
 },
 "nbformat": 4,
 "nbformat_minor": 5
}
